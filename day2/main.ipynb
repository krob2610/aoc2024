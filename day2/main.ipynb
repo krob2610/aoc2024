{
 "cells": [
  {
   "cell_type": "code",
   "execution_count": 69,
   "metadata": {},
   "outputs": [],
   "source": [
    "with open('data.txt', 'r') as file:\n",
    "    data = file.read()\n",
    "\n",
    "data = data.split('\\n')\n",
    "data = [[int(x) for x in d.split()] for d in data]\n",
    "\n",
    "\n",
    "\n"
   ]
  },
  {
   "cell_type": "code",
   "execution_count": null,
   "metadata": {},
   "outputs": [
    {
     "data": {
      "text/plain": [
       "2"
      ]
     },
     "execution_count": 59,
     "metadata": {},
     "output_type": "execute_result"
    }
   ],
   "source": [
    "# part1\n",
    "\n",
    "def get_number_of_safe_raports(data):\n",
    "    valid = 0\n",
    "    for l in data:\n",
    "        for j in range(len(l)-1):\n",
    "            diff = l[j] - l[j+1]\n",
    "            if abs(diff) > 3 or abs(diff) < 1:\n",
    "                break \n",
    "            if j == 0:\n",
    "                diff_type = diff > -1\n",
    "            else:\n",
    "                current_diff_type = diff > -1\n",
    "                if diff_type != current_diff_type:\n",
    "                    break\n",
    "                \n",
    "            if j == len(l)-2:\n",
    "                valid+=1\n",
    "    return valid\n",
    "get_number_of_safe_raports(data)"
   ]
  },
  {
   "cell_type": "code",
   "execution_count": 70,
   "metadata": {},
   "outputs": [
    {
     "data": {
      "text/plain": [
       "364"
      ]
     },
     "execution_count": 70,
     "metadata": {},
     "output_type": "execute_result"
    }
   ],
   "source": [
    "# part2\n",
    "def bruteforce_list_preparation(l:list):\n",
    "    list_to_return = []\n",
    "    for i in range(len(l)):\n",
    "        l_cp = l.copy()\n",
    "        del l_cp[i]\n",
    "        list_to_return.append(l_cp)\n",
    "    return list_to_return\n",
    "def get_number_of_safe_raports(data):\n",
    "    valid = 0\n",
    "    for l in data:\n",
    "        all_list_withoue_element = bruteforce_list_preparation(l)\n",
    "        for lis in all_list_withoue_element:\n",
    "            for j in range(len(lis)-1):\n",
    "                diff = lis[j] - lis[j+1]\n",
    "                if abs(diff) > 3 or abs(diff) < 1:\n",
    "                    break \n",
    "                if j == 0:\n",
    "                    diff_type = diff > -1\n",
    "                else:\n",
    "                    current_diff_type = diff > -1\n",
    "                    if diff_type != current_diff_type:\n",
    "                        break\n",
    "                    \n",
    "                if j == len(lis)-2:\n",
    "                    valid+=1\n",
    "            else:\n",
    "                break\n",
    "            continue\n",
    "    return valid\n",
    "get_number_of_safe_raports(data)"
   ]
  }
 ],
 "metadata": {
  "kernelspec": {
   "display_name": "ski_project",
   "language": "python",
   "name": "python3"
  },
  "language_info": {
   "codemirror_mode": {
    "name": "ipython",
    "version": 3
   },
   "file_extension": ".py",
   "mimetype": "text/x-python",
   "name": "python",
   "nbconvert_exporter": "python",
   "pygments_lexer": "ipython3",
   "version": "3.11.5"
  }
 },
 "nbformat": 4,
 "nbformat_minor": 2
}
